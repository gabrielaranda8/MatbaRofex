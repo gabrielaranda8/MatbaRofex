{
 "cells": [
  {
   "cell_type": "code",
   "execution_count": 1,
   "metadata": {},
   "outputs": [
    {
     "name": "stdout",
     "output_type": "stream",
     "text": [
      "mep ao20\n",
      "2605.0\n",
      "en pesos\n",
      "42.49000168\n",
      "dolares\n",
      "61.30854076257123\n",
      "valor mep\n",
      "mep ay24\n",
      "2310.0\n",
      "en pesos\n",
      "37.47999954\n",
      "dolares\n",
      "61.63287162089436\n",
      "valor mep2\n"
     ]
    },
    {
     "data": {
      "text/plain": [
       "-0.3243308583231297"
      ]
     },
     "execution_count": 1,
     "metadata": {},
     "output_type": "execute_result"
    }
   ],
   "source": [
    "import requests\n",
    "import json\n",
    "\n",
    "\n",
    "ao20url= \"https://api.portfoliopersonal.com/api/Cotizaciones/Item/774016/Cotizacion\"\n",
    "ao20durl=\"https://api.portfoliopersonal.com/api/Cotizaciones/Item/774027/Cotizacion\"\n",
    "ay24url=\"https://api.portfoliopersonal.com/api/Cotizaciones/Item/770849/Cotizacion\"\n",
    "ay24durl=\"https://api.portfoliopersonal.com/api/Cotizaciones/Item/770871/Cotizacion\"\n",
    "\n",
    "cabeza = {\n",
    "'Accept': 'application/json, text/plain, */*',\n",
    "'AuthorizedClient': '321321321',\n",
    "'ClientKey': 'pp123456',\n",
    "'Referer': 'https://api.portfoliopersonal.com/Content/html/proxy.html',\n",
    "'Sec-Fetch-Mode': 'cors',\n",
    "'User-Agent': 'Mozilla/5.0 (Windows NT 10.0; Win64; x64) AppleWebKit/537.36 (KHTML, like Gecko) Chrome/76.0.3809.132 Safari/537.36'   \n",
    "}\n",
    "\n",
    "ao20dresp= requests.get(url=ao20durl, headers=cabeza)\n",
    "ao20ddatos = json.loads(ao20dresp.text)\n",
    "ao20resp= requests.get(url=ao20url, headers=cabeza)\n",
    "ao20datos = json.loads(ao20resp.text)\n",
    "ay24dresp= requests.get(url=ay24durl, headers=cabeza)\n",
    "ay24ddatos = json.loads(ay24dresp.text)\n",
    "ay24resp= requests.get(url=ay24url, headers=cabeza)\n",
    "ay24datos = json.loads(ay24resp.text)\n",
    "\n",
    "precio = []\n",
    "minimi = []\n",
    "\n",
    "\n",
    "\n",
    "Masa = ao20datos.get('payload')\n",
    "Masad =ao20ddatos.get('payload')\n",
    "\n",
    "Masa2 = ay24datos.get('payload')\n",
    "Masad2 =ay24ddatos.get('payload')\n",
    "\n",
    "\n",
    "\n",
    "Ult = Masa.get('ultOperado')\n",
    "Ultd = Masad.get('ultOperado')\n",
    "print(\"mep ao20\")\n",
    "Ccl = Ult/Ultd\n",
    "print(Ult)\n",
    "print(\"en pesos\")\n",
    "print(Ultd)\n",
    "print(\"dolares\")\n",
    "print(Ccl)\n",
    "print(\"valor mep\")\n",
    "\n",
    "\n",
    "Ult2 = Masa2.get('ultOperado')\n",
    "Ultd2 = Masad2.get('ultOperado')\n",
    "print(\"mep ay24\")\n",
    "Ccl2 = Ult2/Ultd2\n",
    "print(Ult2)\n",
    "print(\"en pesos\")\n",
    "print(Ultd2)\n",
    "print(\"dolares\")\n",
    "print(Ccl2)\n",
    "print(\"valor mep2\")\n",
    "  \n",
    "    \n",
    "\n",
    "\n",
    "arbitraje = Ccl - Ccl2\n",
    "\n",
    "arbitraje"
   ]
  }
 ],
 "metadata": {
  "kernelspec": {
   "display_name": "Python 3",
   "language": "python",
   "name": "python3"
  },
  "language_info": {
   "codemirror_mode": {
    "name": "ipython",
    "version": 3
   },
   "file_extension": ".py",
   "mimetype": "text/x-python",
   "name": "python",
   "nbconvert_exporter": "python",
   "pygments_lexer": "ipython3",
   "version": "3.7.1"
  }
 },
 "nbformat": 4,
 "nbformat_minor": 2
}
